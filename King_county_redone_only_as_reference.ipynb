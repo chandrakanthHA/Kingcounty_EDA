{
 "cells": [
  {
   "cell_type": "code",
   "execution_count": 1,
   "metadata": {},
   "outputs": [],
   "source": [
    "import pandas as pd\n",
    "import seaborn as sns\n",
    "from scipy import stats\n",
    "import statsmodels.api as sm\n",
    "import statsmodels.formula.api as smf\n",
    "import matplotlib.pyplot as plt\n",
    "import numpy as np\n",
    "\n",
    "%matplotlib inline\n",
    "\n",
    "pd.pandas.set_option('display.max_columns', None)"
   ]
  },
  {
   "cell_type": "code",
   "execution_count": 2,
   "metadata": {},
   "outputs": [],
   "source": [
    "data = pd.read_csv('King_County_House_prices_dataset.txt')"
   ]
  },
  {
   "cell_type": "code",
   "execution_count": 3,
   "metadata": {},
   "outputs": [],
   "source": [
    "# random splitting of rows into 80% and 20 %\n",
    "cust_test_data = np.random.rand(len(data)) < 0.8"
   ]
  },
  {
   "cell_type": "code",
   "execution_count": 4,
   "metadata": {},
   "outputs": [],
   "source": [
    "# splitting data into model data (80%) and customer test data (20%)\n",
    "model_data = data[cust_test_data]\n",
    "cust_test_data = data[~cust_test_data]"
   ]
  },
  {
   "cell_type": "code",
   "execution_count": 5,
   "metadata": {},
   "outputs": [
    {
     "name": "stdout",
     "output_type": "stream",
     "text": [
      "<class 'pandas.core.frame.DataFrame'>\n",
      "Int64Index: 17273 entries, 0 to 21596\n",
      "Data columns (total 21 columns):\n",
      " #   Column         Non-Null Count  Dtype  \n",
      "---  ------         --------------  -----  \n",
      " 0   id             17273 non-null  int64  \n",
      " 1   date           17273 non-null  object \n",
      " 2   price          17273 non-null  float64\n",
      " 3   bedrooms       17273 non-null  int64  \n",
      " 4   bathrooms      17273 non-null  float64\n",
      " 5   sqft_living    17273 non-null  int64  \n",
      " 6   sqft_lot       17273 non-null  int64  \n",
      " 7   floors         17273 non-null  float64\n",
      " 8   waterfront     15364 non-null  float64\n",
      " 9   view           17224 non-null  float64\n",
      " 10  condition      17273 non-null  int64  \n",
      " 11  grade          17273 non-null  int64  \n",
      " 12  sqft_above     17273 non-null  int64  \n",
      " 13  sqft_basement  17273 non-null  object \n",
      " 14  yr_built       17273 non-null  int64  \n",
      " 15  yr_renovated   14236 non-null  float64\n",
      " 16  zipcode        17273 non-null  int64  \n",
      " 17  lat            17273 non-null  float64\n",
      " 18  long           17273 non-null  float64\n",
      " 19  sqft_living15  17273 non-null  int64  \n",
      " 20  sqft_lot15     17273 non-null  int64  \n",
      "dtypes: float64(8), int64(11), object(2)\n",
      "memory usage: 2.9+ MB\n"
     ]
    }
   ],
   "source": [
    "# checking for uniform datatypes\n",
    "model_data.info()"
   ]
  },
  {
   "cell_type": "code",
   "execution_count": 7,
   "metadata": {},
   "outputs": [],
   "source": [
    "# coverting data string to date formate and sqft_basement into int type\n",
    "model_data.date = pd.to_datetime(model_data.date)\n",
    "model_data.sqft_basement = pd.to_numeric(model_data.sqft_basement, errors='coerce')"
   ]
  },
  {
   "cell_type": "code",
   "execution_count": 8,
   "metadata": {},
   "outputs": [],
   "source": [
    "# replace nan with zero\n",
    "model_data.view = model_data.view.fillna(0)\n",
    "model_data.waterfront = model_data.waterfront.fillna(0)\n",
    "model_data.yr_renovated = model_data.yr_renovated.fillna(0)\n",
    "model_data.sqft_basement = model_data.sqft_basement.fillna(0)"
   ]
  },
  {
   "cell_type": "code",
   "execution_count": 9,
   "metadata": {},
   "outputs": [],
   "source": [
    "model_data.view = model_data.view.astype(int)\n",
    "model_data.waterfront = model_data.waterfront.astype(int)\n",
    "model_data.yr_renovated = model_data.yr_renovated.astype(int)\n",
    "model_data.id = model_data.id.astype(str)\n",
    "model_data.zipcode = model_data.zipcode.astype(str)\n",
    "model_data.floors = model_data.floors.astype(int)\n",
    "model_data.sqft_basement = model_data.sqft_basement.astype(int)"
   ]
  },
  {
   "cell_type": "code",
   "execution_count": 10,
   "metadata": {},
   "outputs": [
    {
     "data": {
      "text/html": [
       "<div>\n",
       "<style scoped>\n",
       "    .dataframe tbody tr th:only-of-type {\n",
       "        vertical-align: middle;\n",
       "    }\n",
       "\n",
       "    .dataframe tbody tr th {\n",
       "        vertical-align: top;\n",
       "    }\n",
       "\n",
       "    .dataframe thead th {\n",
       "        text-align: right;\n",
       "    }\n",
       "</style>\n",
       "<table border=\"1\" class=\"dataframe\">\n",
       "  <thead>\n",
       "    <tr style=\"text-align: right;\">\n",
       "      <th></th>\n",
       "      <th>date</th>\n",
       "      <th>yr_renovated</th>\n",
       "    </tr>\n",
       "  </thead>\n",
       "  <tbody>\n",
       "    <tr>\n",
       "      <th>0</th>\n",
       "      <td>2014-10-13</td>\n",
       "      <td>0</td>\n",
       "    </tr>\n",
       "    <tr>\n",
       "      <th>2</th>\n",
       "      <td>2015-02-25</td>\n",
       "      <td>0</td>\n",
       "    </tr>\n",
       "    <tr>\n",
       "      <th>4</th>\n",
       "      <td>2015-02-18</td>\n",
       "      <td>0</td>\n",
       "    </tr>\n",
       "    <tr>\n",
       "      <th>5</th>\n",
       "      <td>2014-05-12</td>\n",
       "      <td>0</td>\n",
       "    </tr>\n",
       "    <tr>\n",
       "      <th>6</th>\n",
       "      <td>2014-06-27</td>\n",
       "      <td>0</td>\n",
       "    </tr>\n",
       "  </tbody>\n",
       "</table>\n",
       "</div>"
      ],
      "text/plain": [
       "        date  yr_renovated\n",
       "0 2014-10-13             0\n",
       "2 2015-02-25             0\n",
       "4 2015-02-18             0\n",
       "5 2014-05-12             0\n",
       "6 2014-06-27             0"
      ]
     },
     "execution_count": 10,
     "metadata": {},
     "output_type": "execute_result"
    }
   ],
   "source": [
    "model_data[['date','yr_renovated']].head()"
   ]
  },
  {
   "cell_type": "code",
   "execution_count": 12,
   "metadata": {},
   "outputs": [],
   "source": [
    "# replace null values to the year buil,as we have no information\n",
    "model_data.yr_renovated = np.where(model_data.yr_renovated == 0, model_data.yr_built, model_data.yr_renovated )"
   ]
  },
  {
   "cell_type": "code",
   "execution_count": 13,
   "metadata": {},
   "outputs": [
    {
     "name": "stderr",
     "output_type": "stream",
     "text": [
      "<ipython-input-13-50da72c6c494>:2: SettingWithCopyWarning: \n",
      "A value is trying to be set on a copy of a slice from a DataFrame.\n",
      "Try using .loc[row_indexer,col_indexer] = value instead\n",
      "\n",
      "See the caveats in the documentation: https://pandas.pydata.org/pandas-docs/stable/user_guide/indexing.html#returning-a-view-versus-a-copy\n",
      "  model_data['year_sold']= model_data['date'].dt.year\n",
      "<ipython-input-13-50da72c6c494>:3: SettingWithCopyWarning: \n",
      "A value is trying to be set on a copy of a slice from a DataFrame.\n",
      "Try using .loc[row_indexer,col_indexer] = value instead\n",
      "\n",
      "See the caveats in the documentation: https://pandas.pydata.org/pandas-docs/stable/user_guide/indexing.html#returning-a-view-versus-a-copy\n",
      "  model_data['month_sold']= model_data['date'].dt.month\n",
      "<ipython-input-13-50da72c6c494>:4: SettingWithCopyWarning: \n",
      "A value is trying to be set on a copy of a slice from a DataFrame.\n",
      "Try using .loc[row_indexer,col_indexer] = value instead\n",
      "\n",
      "See the caveats in the documentation: https://pandas.pydata.org/pandas-docs/stable/user_guide/indexing.html#returning-a-view-versus-a-copy\n",
      "  model_data['day_sold']= model_data['date'].dt.day\n"
     ]
    }
   ],
   "source": [
    "# creating new date, month and year sold columns from sold date column\n",
    "model_data['year_sold']= model_data['date'].dt.year\n",
    "model_data['month_sold']= model_data['date'].dt.month\n",
    "model_data['day_sold']= model_data['date'].dt.day"
   ]
  },
  {
   "cell_type": "code",
   "execution_count": 14,
   "metadata": {},
   "outputs": [
    {
     "data": {
      "text/plain": [
       "(17273, 24)"
      ]
     },
     "execution_count": 14,
     "metadata": {},
     "output_type": "execute_result"
    }
   ],
   "source": [
    "model_data.shape"
   ]
  },
  {
   "cell_type": "code",
   "execution_count": 15,
   "metadata": {},
   "outputs": [
    {
     "data": {
      "text/html": [
       "<div>\n",
       "<style scoped>\n",
       "    .dataframe tbody tr th:only-of-type {\n",
       "        vertical-align: middle;\n",
       "    }\n",
       "\n",
       "    .dataframe tbody tr th {\n",
       "        vertical-align: top;\n",
       "    }\n",
       "\n",
       "    .dataframe thead th {\n",
       "        text-align: right;\n",
       "    }\n",
       "</style>\n",
       "<table border=\"1\" class=\"dataframe\">\n",
       "  <thead>\n",
       "    <tr style=\"text-align: right;\">\n",
       "      <th></th>\n",
       "      <th>id</th>\n",
       "      <th>date</th>\n",
       "      <th>price</th>\n",
       "      <th>bedrooms</th>\n",
       "      <th>bathrooms</th>\n",
       "      <th>sqft_living</th>\n",
       "      <th>sqft_lot</th>\n",
       "      <th>floors</th>\n",
       "      <th>waterfront</th>\n",
       "      <th>view</th>\n",
       "      <th>condition</th>\n",
       "      <th>grade</th>\n",
       "      <th>sqft_above</th>\n",
       "      <th>sqft_basement</th>\n",
       "      <th>yr_built</th>\n",
       "      <th>yr_renovated</th>\n",
       "      <th>zipcode</th>\n",
       "      <th>lat</th>\n",
       "      <th>long</th>\n",
       "      <th>sqft_living15</th>\n",
       "      <th>sqft_lot15</th>\n",
       "      <th>year_sold</th>\n",
       "      <th>month_sold</th>\n",
       "      <th>day_sold</th>\n",
       "    </tr>\n",
       "  </thead>\n",
       "  <tbody>\n",
       "    <tr>\n",
       "      <th>0</th>\n",
       "      <td>7129300520</td>\n",
       "      <td>2014-10-13</td>\n",
       "      <td>221900.0</td>\n",
       "      <td>3</td>\n",
       "      <td>1.00</td>\n",
       "      <td>1180</td>\n",
       "      <td>5650</td>\n",
       "      <td>1</td>\n",
       "      <td>0</td>\n",
       "      <td>0</td>\n",
       "      <td>3</td>\n",
       "      <td>7</td>\n",
       "      <td>1180</td>\n",
       "      <td>0</td>\n",
       "      <td>1955</td>\n",
       "      <td>1955</td>\n",
       "      <td>98178</td>\n",
       "      <td>47.5112</td>\n",
       "      <td>-122.257</td>\n",
       "      <td>1340</td>\n",
       "      <td>5650</td>\n",
       "      <td>2014</td>\n",
       "      <td>10</td>\n",
       "      <td>13</td>\n",
       "    </tr>\n",
       "    <tr>\n",
       "      <th>2</th>\n",
       "      <td>5631500400</td>\n",
       "      <td>2015-02-25</td>\n",
       "      <td>180000.0</td>\n",
       "      <td>2</td>\n",
       "      <td>1.00</td>\n",
       "      <td>770</td>\n",
       "      <td>10000</td>\n",
       "      <td>1</td>\n",
       "      <td>0</td>\n",
       "      <td>0</td>\n",
       "      <td>3</td>\n",
       "      <td>6</td>\n",
       "      <td>770</td>\n",
       "      <td>0</td>\n",
       "      <td>1933</td>\n",
       "      <td>1933</td>\n",
       "      <td>98028</td>\n",
       "      <td>47.7379</td>\n",
       "      <td>-122.233</td>\n",
       "      <td>2720</td>\n",
       "      <td>8062</td>\n",
       "      <td>2015</td>\n",
       "      <td>2</td>\n",
       "      <td>25</td>\n",
       "    </tr>\n",
       "    <tr>\n",
       "      <th>4</th>\n",
       "      <td>1954400510</td>\n",
       "      <td>2015-02-18</td>\n",
       "      <td>510000.0</td>\n",
       "      <td>3</td>\n",
       "      <td>2.00</td>\n",
       "      <td>1680</td>\n",
       "      <td>8080</td>\n",
       "      <td>1</td>\n",
       "      <td>0</td>\n",
       "      <td>0</td>\n",
       "      <td>3</td>\n",
       "      <td>8</td>\n",
       "      <td>1680</td>\n",
       "      <td>0</td>\n",
       "      <td>1987</td>\n",
       "      <td>1987</td>\n",
       "      <td>98074</td>\n",
       "      <td>47.6168</td>\n",
       "      <td>-122.045</td>\n",
       "      <td>1800</td>\n",
       "      <td>7503</td>\n",
       "      <td>2015</td>\n",
       "      <td>2</td>\n",
       "      <td>18</td>\n",
       "    </tr>\n",
       "    <tr>\n",
       "      <th>5</th>\n",
       "      <td>7237550310</td>\n",
       "      <td>2014-05-12</td>\n",
       "      <td>1230000.0</td>\n",
       "      <td>4</td>\n",
       "      <td>4.50</td>\n",
       "      <td>5420</td>\n",
       "      <td>101930</td>\n",
       "      <td>1</td>\n",
       "      <td>0</td>\n",
       "      <td>0</td>\n",
       "      <td>3</td>\n",
       "      <td>11</td>\n",
       "      <td>3890</td>\n",
       "      <td>1530</td>\n",
       "      <td>2001</td>\n",
       "      <td>2001</td>\n",
       "      <td>98053</td>\n",
       "      <td>47.6561</td>\n",
       "      <td>-122.005</td>\n",
       "      <td>4760</td>\n",
       "      <td>101930</td>\n",
       "      <td>2014</td>\n",
       "      <td>5</td>\n",
       "      <td>12</td>\n",
       "    </tr>\n",
       "    <tr>\n",
       "      <th>6</th>\n",
       "      <td>1321400060</td>\n",
       "      <td>2014-06-27</td>\n",
       "      <td>257500.0</td>\n",
       "      <td>3</td>\n",
       "      <td>2.25</td>\n",
       "      <td>1715</td>\n",
       "      <td>6819</td>\n",
       "      <td>2</td>\n",
       "      <td>0</td>\n",
       "      <td>0</td>\n",
       "      <td>3</td>\n",
       "      <td>7</td>\n",
       "      <td>1715</td>\n",
       "      <td>0</td>\n",
       "      <td>1995</td>\n",
       "      <td>1995</td>\n",
       "      <td>98003</td>\n",
       "      <td>47.3097</td>\n",
       "      <td>-122.327</td>\n",
       "      <td>2238</td>\n",
       "      <td>6819</td>\n",
       "      <td>2014</td>\n",
       "      <td>6</td>\n",
       "      <td>27</td>\n",
       "    </tr>\n",
       "  </tbody>\n",
       "</table>\n",
       "</div>"
      ],
      "text/plain": [
       "           id       date      price  bedrooms  bathrooms  sqft_living  \\\n",
       "0  7129300520 2014-10-13   221900.0         3       1.00         1180   \n",
       "2  5631500400 2015-02-25   180000.0         2       1.00          770   \n",
       "4  1954400510 2015-02-18   510000.0         3       2.00         1680   \n",
       "5  7237550310 2014-05-12  1230000.0         4       4.50         5420   \n",
       "6  1321400060 2014-06-27   257500.0         3       2.25         1715   \n",
       "\n",
       "   sqft_lot  floors  waterfront  view  condition  grade  sqft_above  \\\n",
       "0      5650       1           0     0          3      7        1180   \n",
       "2     10000       1           0     0          3      6         770   \n",
       "4      8080       1           0     0          3      8        1680   \n",
       "5    101930       1           0     0          3     11        3890   \n",
       "6      6819       2           0     0          3      7        1715   \n",
       "\n",
       "   sqft_basement  yr_built  yr_renovated zipcode      lat     long  \\\n",
       "0              0      1955          1955   98178  47.5112 -122.257   \n",
       "2              0      1933          1933   98028  47.7379 -122.233   \n",
       "4              0      1987          1987   98074  47.6168 -122.045   \n",
       "5           1530      2001          2001   98053  47.6561 -122.005   \n",
       "6              0      1995          1995   98003  47.3097 -122.327   \n",
       "\n",
       "   sqft_living15  sqft_lot15  year_sold  month_sold  day_sold  \n",
       "0           1340        5650       2014          10        13  \n",
       "2           2720        8062       2015           2        25  \n",
       "4           1800        7503       2015           2        18  \n",
       "5           4760      101930       2014           5        12  \n",
       "6           2238        6819       2014           6        27  "
      ]
     },
     "execution_count": 15,
     "metadata": {},
     "output_type": "execute_result"
    }
   ],
   "source": [
    "model_data.head()"
   ]
  },
  {
   "cell_type": "code",
   "execution_count": 16,
   "metadata": {},
   "outputs": [
    {
     "data": {
      "text/plain": [
       "['id',\n",
       " 'date',\n",
       " 'price',\n",
       " 'bedrooms',\n",
       " 'bathrooms',\n",
       " 'sqft_living',\n",
       " 'sqft_lot',\n",
       " 'floors',\n",
       " 'waterfront',\n",
       " 'view',\n",
       " 'condition',\n",
       " 'grade',\n",
       " 'sqft_above',\n",
       " 'sqft_basement',\n",
       " 'yr_built',\n",
       " 'yr_renovated',\n",
       " 'zipcode',\n",
       " 'lat',\n",
       " 'long',\n",
       " 'sqft_living15',\n",
       " 'sqft_lot15',\n",
       " 'year_sold',\n",
       " 'month_sold',\n",
       " 'day_sold']"
      ]
     },
     "execution_count": 16,
     "metadata": {},
     "output_type": "execute_result"
    }
   ],
   "source": [
    "# rearrange the position of the columns\n",
    "cols = model_data.columns.to_list()\n",
    "cols"
   ]
  },
  {
   "cell_type": "code",
   "execution_count": 17,
   "metadata": {},
   "outputs": [],
   "source": [
    "cols = ['id','price','date','year_sold','month_sold','day_sold','bedrooms','bathrooms',\n",
    "        'sqft_living','sqft_lot','floors','waterfront','view','condition',\n",
    "        'grade','sqft_above','sqft_basement','yr_built','yr_renovated','zipcode',\n",
    "        'lat','long','sqft_living15','sqft_lot15']"
   ]
  },
  {
   "cell_type": "code",
   "execution_count": 18,
   "metadata": {},
   "outputs": [],
   "source": [
    "model_data = model_data[cols]"
   ]
  },
  {
   "cell_type": "code",
   "execution_count": 19,
   "metadata": {},
   "outputs": [
    {
     "data": {
      "image/png": "[encoded data removed]",
      "text/plain": [
       "<Figure size 1080x1080 with 25 Axes>"
      ]
     },
     "metadata": {
      "needs_background": "light"
     },
     "output_type": "display_data"
    }
   ],
   "source": [
    "hist_grid = model_data[['id','price','date','year_sold','month_sold','day_sold','bedrooms','bathrooms',\n",
    "                        'sqft_living','sqft_lot','floors','waterfront','view','condition',\n",
    "                        'grade','sqft_above','sqft_basement','yr_built','yr_renovated','zipcode',\n",
    "                        'lat','long','sqft_living15','sqft_lot15'\n",
    "                       ]].hist(bins=25,figsize=(15,15),xlabelsize='10',ylabelsize='10',xrot=-15);\n",
    "\n",
    "[x.title.set_size(12) for x in hist_grid.ravel()];"
   ]
  },
  {
   "cell_type": "code",
   "execution_count": 20,
   "metadata": {},
   "outputs": [],
   "source": [
    "reg_data = model_data.copy()"
   ]
  },
  {
   "cell_type": "code",
   "execution_count": 21,
   "metadata": {},
   "outputs": [
    {
     "data": {
      "text/plain": [
       "Index(['id', 'price', 'date', 'year_sold', 'month_sold', 'day_sold',\n",
       "       'bedrooms', 'bathrooms', 'sqft_living', 'sqft_lot', 'floors',\n",
       "       'waterfront', 'view', 'condition', 'grade', 'sqft_above',\n",
       "       'sqft_basement', 'yr_built', 'yr_renovated', 'zipcode', 'lat', 'long',\n",
       "       'sqft_living15', 'sqft_lot15'],\n",
       "      dtype='object')"
      ]
     },
     "execution_count": 21,
     "metadata": {},
     "output_type": "execute_result"
    }
   ],
   "source": [
    "reg_data.columns"
   ]
  },
  {
   "cell_type": "code",
   "execution_count": 22,
   "metadata": {},
   "outputs": [
    {
     "name": "stdout",
     "output_type": "stream",
     "text": [
      "<class 'pandas.core.frame.DataFrame'>\n",
      "Int64Index: 17273 entries, 0 to 21596\n",
      "Data columns (total 24 columns):\n",
      " #   Column         Non-Null Count  Dtype         \n",
      "---  ------         --------------  -----         \n",
      " 0   id             17273 non-null  object        \n",
      " 1   price          17273 non-null  float64       \n",
      " 2   date           17273 non-null  datetime64[ns]\n",
      " 3   year_sold      17273 non-null  int64         \n",
      " 4   month_sold     17273 non-null  int64         \n",
      " 5   day_sold       17273 non-null  int64         \n",
      " 6   bedrooms       17273 non-null  int64         \n",
      " 7   bathrooms      17273 non-null  float64       \n",
      " 8   sqft_living    17273 non-null  int64         \n",
      " 9   sqft_lot       17273 non-null  int64         \n",
      " 10  floors         17273 non-null  int32         \n",
      " 11  waterfront     17273 non-null  int32         \n",
      " 12  view           17273 non-null  int32         \n",
      " 13  condition      17273 non-null  int64         \n",
      " 14  grade          17273 non-null  int64         \n",
      " 15  sqft_above     17273 non-null  int64         \n",
      " 16  sqft_basement  17273 non-null  int32         \n",
      " 17  yr_built       17273 non-null  int64         \n",
      " 18  yr_renovated   17273 non-null  int64         \n",
      " 19  zipcode        17273 non-null  object        \n",
      " 20  lat            17273 non-null  float64       \n",
      " 21  long           17273 non-null  float64       \n",
      " 22  sqft_living15  17273 non-null  int64         \n",
      " 23  sqft_lot15     17273 non-null  int64         \n",
      "dtypes: datetime64[ns](1), float64(4), int32(4), int64(13), object(2)\n",
      "memory usage: 3.0+ MB\n"
     ]
    }
   ],
   "source": [
    "reg_data.info()"
   ]
  },
  {
   "cell_type": "code",
   "execution_count": 23,
   "metadata": {},
   "outputs": [],
   "source": [
    "reg_data = reg_data[reg_data[\"bedrooms\"] != 33]"
   ]
  },
  {
   "cell_type": "code",
   "execution_count": 24,
   "metadata": {},
   "outputs": [],
   "source": [
    "# model 1 : no outliers dropped and Col: Id, sqft_above, sqft_lot15, date, zipcode are dropped\n",
    "from sklearn.model_selection import train_test_split\n",
    "from sklearn.metrics import mean_squared_error\n",
    "\n",
    "X = reg_data[['year_sold','month_sold', 'day_sold',\n",
    "               'bedrooms', 'bathrooms', 'sqft_living', 'sqft_lot', 'floors',\n",
    "               'waterfront', 'view', 'condition', 'grade',\n",
    "               'sqft_basement', 'yr_built', 'yr_renovated','lat', 'long',\n",
    "               'sqft_living15']]\n",
    "Y = reg_data['price']"
   ]
  },
  {
   "cell_type": "code",
   "execution_count": 25,
   "metadata": {},
   "outputs": [],
   "source": [
    "X_train, X_test, Y_train, Y_test = train_test_split(X, Y, test_size=0.33, random_state=42)"
   ]
  },
  {
   "cell_type": "code",
   "execution_count": 26,
   "metadata": {},
   "outputs": [],
   "source": [
    "# adding constant\n",
    "X_train = sm.add_constant(X_train) # adding a constant\n",
    "X_test = sm.add_constant(X_test) # adding a constant"
   ]
  },
  {
   "cell_type": "code",
   "execution_count": 27,
   "metadata": {},
   "outputs": [
    {
     "name": "stdout",
     "output_type": "stream",
     "text": [
      "-----  Training the model ----\n"
     ]
    },
    {
     "data": {
      "text/html": [
       "<table class=\"simpletable\">\n",
       "<caption>OLS Regression Results</caption>\n",
       "<tr>\n",
       "  <th>Dep. Variable:</th>          <td>price</td>      <th>  R-squared:         </th>  <td>   0.696</td>  \n",
       "</tr>\n",
       "<tr>\n",
       "  <th>Model:</th>                   <td>OLS</td>       <th>  Adj. R-squared:    </th>  <td>   0.695</td>  \n",
       "</tr>\n",
       "<tr>\n",
       "  <th>Method:</th>             <td>Least Squares</td>  <th>  F-statistic:       </th>  <td>   1469.</td>  \n",
       "</tr>\n",
       "<tr>\n",
       "  <th>Date:</th>             <td>Sun, 18 Oct 2020</td> <th>  Prob (F-statistic):</th>   <td>  0.00</td>   \n",
       "</tr>\n",
       "<tr>\n",
       "  <th>Time:</th>                 <td>16:36:05</td>     <th>  Log-Likelihood:    </th> <td>-1.5776e+05</td>\n",
       "</tr>\n",
       "<tr>\n",
       "  <th>No. Observations:</th>      <td> 11572</td>      <th>  AIC:               </th>  <td>3.156e+05</td> \n",
       "</tr>\n",
       "<tr>\n",
       "  <th>Df Residuals:</th>          <td> 11553</td>      <th>  BIC:               </th>  <td>3.157e+05</td> \n",
       "</tr>\n",
       "<tr>\n",
       "  <th>Df Model:</th>              <td>    18</td>      <th>                     </th>      <td> </td>     \n",
       "</tr>\n",
       "<tr>\n",
       "  <th>Covariance Type:</th>      <td>nonrobust</td>    <th>                     </th>      <td> </td>     \n",
       "</tr>\n",
       "</table>\n",
       "<table class=\"simpletable\">\n",
       "<tr>\n",
       "        <td></td>           <th>coef</th>     <th>std err</th>      <th>t</th>      <th>P>|t|</th>  <th>[0.025</th>    <th>0.975]</th>  \n",
       "</tr>\n",
       "<tr>\n",
       "  <th>const</th>         <td>-1.074e+08</td> <td> 1.32e+07</td> <td>   -8.129</td> <td> 0.000</td> <td>-1.33e+08</td> <td>-8.15e+07</td>\n",
       "</tr>\n",
       "<tr>\n",
       "  <th>year_sold</th>     <td> 3.477e+04</td> <td> 6470.752</td> <td>    5.374</td> <td> 0.000</td> <td> 2.21e+04</td> <td> 4.75e+04</td>\n",
       "</tr>\n",
       "<tr>\n",
       "  <th>month_sold</th>    <td>  166.9956</td> <td>  970.945</td> <td>    0.172</td> <td> 0.863</td> <td>-1736.221</td> <td> 2070.212</td>\n",
       "</tr>\n",
       "<tr>\n",
       "  <th>day_sold</th>      <td> -188.7814</td> <td>  218.330</td> <td>   -0.865</td> <td> 0.387</td> <td> -616.745</td> <td>  239.182</td>\n",
       "</tr>\n",
       "<tr>\n",
       "  <th>bedrooms</th>      <td>-3.915e+04</td> <td> 2658.357</td> <td>  -14.726</td> <td> 0.000</td> <td>-4.44e+04</td> <td>-3.39e+04</td>\n",
       "</tr>\n",
       "<tr>\n",
       "  <th>bathrooms</th>     <td> 3.524e+04</td> <td> 4457.872</td> <td>    7.905</td> <td> 0.000</td> <td> 2.65e+04</td> <td>  4.4e+04</td>\n",
       "</tr>\n",
       "<tr>\n",
       "  <th>sqft_living</th>   <td>  183.4105</td> <td>    5.029</td> <td>   36.469</td> <td> 0.000</td> <td>  173.552</td> <td>  193.269</td>\n",
       "</tr>\n",
       "<tr>\n",
       "  <th>sqft_lot</th>      <td>   -0.0963</td> <td>    0.048</td> <td>   -2.028</td> <td> 0.043</td> <td>   -0.189</td> <td>   -0.003</td>\n",
       "</tr>\n",
       "<tr>\n",
       "  <th>floors</th>        <td> 5062.7786</td> <td> 4959.565</td> <td>    1.021</td> <td> 0.307</td> <td>-4658.809</td> <td> 1.48e+04</td>\n",
       "</tr>\n",
       "<tr>\n",
       "  <th>waterfront</th>    <td> 6.544e+05</td> <td> 2.45e+04</td> <td>   26.716</td> <td> 0.000</td> <td> 6.06e+05</td> <td> 7.02e+05</td>\n",
       "</tr>\n",
       "<tr>\n",
       "  <th>view</th>          <td> 4.729e+04</td> <td> 2879.874</td> <td>   16.420</td> <td> 0.000</td> <td> 4.16e+04</td> <td> 5.29e+04</td>\n",
       "</tr>\n",
       "<tr>\n",
       "  <th>condition</th>     <td> 3.082e+04</td> <td> 3203.418</td> <td>    9.621</td> <td> 0.000</td> <td> 2.45e+04</td> <td> 3.71e+04</td>\n",
       "</tr>\n",
       "<tr>\n",
       "  <th>grade</th>         <td> 9.409e+04</td> <td> 2939.585</td> <td>   32.008</td> <td> 0.000</td> <td> 8.83e+04</td> <td> 9.99e+04</td>\n",
       "</tr>\n",
       "<tr>\n",
       "  <th>sqft_basement</th> <td>  -16.7474</td> <td>    5.825</td> <td>   -2.875</td> <td> 0.004</td> <td>  -28.165</td> <td>   -5.330</td>\n",
       "</tr>\n",
       "<tr>\n",
       "  <th>yr_built</th>      <td>-3209.0978</td> <td>  174.986</td> <td>  -18.339</td> <td> 0.000</td> <td>-3552.100</td> <td>-2866.096</td>\n",
       "</tr>\n",
       "<tr>\n",
       "  <th>yr_renovated</th>  <td>  857.4849</td> <td>  178.203</td> <td>    4.812</td> <td> 0.000</td> <td>  508.178</td> <td> 1206.792</td>\n",
       "</tr>\n",
       "<tr>\n",
       "  <th>lat</th>           <td> 5.663e+05</td> <td> 1.44e+04</td> <td>   39.296</td> <td> 0.000</td> <td> 5.38e+05</td> <td> 5.95e+05</td>\n",
       "</tr>\n",
       "<tr>\n",
       "  <th>long</th>          <td>-1.175e+05</td> <td> 1.63e+04</td> <td>   -7.203</td> <td> 0.000</td> <td> -1.5e+05</td> <td>-8.55e+04</td>\n",
       "</tr>\n",
       "<tr>\n",
       "  <th>sqft_living15</th> <td>   29.3965</td> <td>    4.657</td> <td>    6.312</td> <td> 0.000</td> <td>   20.268</td> <td>   38.525</td>\n",
       "</tr>\n",
       "</table>\n",
       "<table class=\"simpletable\">\n",
       "<tr>\n",
       "  <th>Omnibus:</th>       <td>10341.904</td> <th>  Durbin-Watson:     </th>  <td>   2.002</td>  \n",
       "</tr>\n",
       "<tr>\n",
       "  <th>Prob(Omnibus):</th>  <td> 0.000</td>   <th>  Jarque-Bera (JB):  </th> <td>1248159.884</td>\n",
       "</tr>\n",
       "<tr>\n",
       "  <th>Skew:</th>           <td> 3.806</td>   <th>  Prob(JB):          </th>  <td>    0.00</td>  \n",
       "</tr>\n",
       "<tr>\n",
       "  <th>Kurtosis:</th>       <td>53.306</td>   <th>  Cond. No.          </th>  <td>3.13e+08</td>  \n",
       "</tr>\n",
       "</table><br/><br/>Warnings:<br/>[1] Standard Errors assume that the covariance matrix of the errors is correctly specified.<br/>[2] The condition number is large, 3.13e+08. This might indicate that there are<br/>strong multicollinearity or other numerical problems."
      ],
      "text/plain": [
       "<class 'statsmodels.iolib.summary.Summary'>\n",
       "\"\"\"\n",
       "                            OLS Regression Results                            \n",
       "==============================================================================\n",
       "Dep. Variable:                  price   R-squared:                       0.696\n",
       "Model:                            OLS   Adj. R-squared:                  0.695\n",
       "Method:                 Least Squares   F-statistic:                     1469.\n",
       "Date:                Sun, 18 Oct 2020   Prob (F-statistic):               0.00\n",
       "Time:                        16:36:05   Log-Likelihood:            -1.5776e+05\n",
       "No. Observations:               11572   AIC:                         3.156e+05\n",
       "Df Residuals:                   11553   BIC:                         3.157e+05\n",
       "Df Model:                          18                                         \n",
       "Covariance Type:            nonrobust                                         \n",
       "=================================================================================\n",
       "                    coef    std err          t      P>|t|      [0.025      0.975]\n",
       "---------------------------------------------------------------------------------\n",
       "const         -1.074e+08   1.32e+07     -8.129      0.000   -1.33e+08   -8.15e+07\n",
       "year_sold      3.477e+04   6470.752      5.374      0.000    2.21e+04    4.75e+04\n",
       "month_sold      166.9956    970.945      0.172      0.863   -1736.221    2070.212\n",
       "day_sold       -188.7814    218.330     -0.865      0.387    -616.745     239.182\n",
       "bedrooms      -3.915e+04   2658.357    -14.726      0.000   -4.44e+04   -3.39e+04\n",
       "bathrooms      3.524e+04   4457.872      7.905      0.000    2.65e+04     4.4e+04\n",
       "sqft_living     183.4105      5.029     36.469      0.000     173.552     193.269\n",
       "sqft_lot         -0.0963      0.048     -2.028      0.043      -0.189      -0.003\n",
       "floors         5062.7786   4959.565      1.021      0.307   -4658.809    1.48e+04\n",
       "waterfront     6.544e+05   2.45e+04     26.716      0.000    6.06e+05    7.02e+05\n",
       "view           4.729e+04   2879.874     16.420      0.000    4.16e+04    5.29e+04\n",
       "condition      3.082e+04   3203.418      9.621      0.000    2.45e+04    3.71e+04\n",
       "grade          9.409e+04   2939.585     32.008      0.000    8.83e+04    9.99e+04\n",
       "sqft_basement   -16.7474      5.825     -2.875      0.004     -28.165      -5.330\n",
       "yr_built      -3209.0978    174.986    -18.339      0.000   -3552.100   -2866.096\n",
       "yr_renovated    857.4849    178.203      4.812      0.000     508.178    1206.792\n",
       "lat            5.663e+05   1.44e+04     39.296      0.000    5.38e+05    5.95e+05\n",
       "long          -1.175e+05   1.63e+04     -7.203      0.000    -1.5e+05   -8.55e+04\n",
       "sqft_living15    29.3965      4.657      6.312      0.000      20.268      38.525\n",
       "==============================================================================\n",
       "Omnibus:                    10341.904   Durbin-Watson:                   2.002\n",
       "Prob(Omnibus):                  0.000   Jarque-Bera (JB):          1248159.884\n",
       "Skew:                           3.806   Prob(JB):                         0.00\n",
       "Kurtosis:                      53.306   Cond. No.                     3.13e+08\n",
       "==============================================================================\n",
       "\n",
       "Warnings:\n",
       "[1] Standard Errors assume that the covariance matrix of the errors is correctly specified.\n",
       "[2] The condition number is large, 3.13e+08. This might indicate that there are\n",
       "strong multicollinearity or other numerical problems.\n",
       "\"\"\""
      ]
     },
     "execution_count": 27,
     "metadata": {},
     "output_type": "execute_result"
    }
   ],
   "source": [
    "#training the model\n",
    "print(\"-----  Training the model ----\")\n",
    "model = sm.OLS(Y_train, X_train).fit()\n",
    "model.summary()"
   ]
  },
  {
   "cell_type": "code",
   "execution_count": 28,
   "metadata": {},
   "outputs": [
    {
     "name": "stdout",
     "output_type": "stream",
     "text": [
      "-----  Evaluating the model ----\n"
     ]
    }
   ],
   "source": [
    "print(\"-----  Evaluating the model ----\")\n",
    "predictions = model.predict(X_train)\n",
    "err_train = np.sqrt(mean_squared_error(Y_train, predictions))\n",
    "predictions_test = model.predict(X_test)\n",
    "err_test = np.sqrt(mean_squared_error(Y_test, predictions_test))"
   ]
  },
  {
   "cell_type": "code",
   "execution_count": 29,
   "metadata": {},
   "outputs": [
    {
     "name": "stdout",
     "output_type": "stream",
     "text": [
      "<statsmodels.regression.linear_model.RegressionResultsWrapper object at 0x000002013A34F610>\n",
      "-------------\n",
      "RMSE on train data: 201643.88740611874\n",
      "RMSE on test data: 204065.3634176558\n"
     ]
    }
   ],
   "source": [
    "print(model)\n",
    "print (\"-------------\")\n",
    "print (f\"RMSE on train data: {err_train}\")\n",
    "print (f\"RMSE on test data: {err_test}\")"
   ]
  },
  {
   "cell_type": "code",
   "execution_count": null,
   "metadata": {},
   "outputs": [],
   "source": []
  }
 ],
 "metadata": {
  "kernelspec": {
   "display_name": "Python 3",
   "language": "python",
   "name": "python3"
  },
  "language_info": {
   "codemirror_mode": {
    "name": "ipython",
    "version": 3
   },
   "file_extension": ".py",
   "mimetype": "text/x-python",
   "name": "python",
   "nbconvert_exporter": "python",
   "pygments_lexer": "ipython3",
   "version": "3.8.3"
  }
 },
 "nbformat": 4,
 "nbformat_minor": 4
}
